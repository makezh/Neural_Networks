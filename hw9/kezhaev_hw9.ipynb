{
 "cells": [
  {
   "cell_type": "code",
   "execution_count": 1,
   "id": "eaa26bcb",
   "metadata": {},
   "outputs": [
    {
     "name": "stderr",
     "output_type": "stream",
     "text": [
      "/Users/max/.conda/envs/hw9/lib/python3.10/site-packages/tqdm/auto.py:22: TqdmWarning: IProgress not found. Please update jupyter and ipywidgets. See https://ipywidgets.readthedocs.io/en/stable/user_install.html\n",
      "  from .autonotebook import tqdm as notebook_tqdm\n"
     ]
    }
   ],
   "source": [
    "from typing import List\n",
    "import torch\n",
    "import pickle\n",
    "import math\n",
    "from collections import defaultdict, Counter\n",
    "import numpy as np\n",
    "from tqdm.auto import tqdm\n",
    "import re\n",
    "from matplotlib import pyplot as plt\n",
    "from scipy.special import softmax\n",
    "\n",
    "# будем использовать mpire для ускорения\n",
    "# на некоторых системах есть проблема с кол-вом открываемвых\n",
    "# файловы дескрипторов, поэтому разрешим нашему процессу\n",
    "# создавать их в большЕм количестве\n",
    "from mpire import WorkerPool\n",
    "import resource\n",
    "soft, hard = resource.getrlimit(resource.RLIMIT_NOFILE)\n",
    "resource.setrlimit(resource.RLIMIT_NOFILE, (hard, hard))"
   ]
  },
  {
   "cell_type": "code",
   "execution_count": 2,
   "id": "0310a517",
   "metadata": {},
   "outputs": [],
   "source": [
    "TEST_CTC_DATASET_PATH = './test_data.pt'\n",
    "VOCAB_PKL_PATH = './vocab.pkl'"
   ]
  },
  {
   "cell_type": "code",
   "execution_count": 3,
   "id": "c61ceb62",
   "metadata": {},
   "outputs": [],
   "source": [
    "dataset = torch.load(TEST_CTC_DATASET_PATH)\n",
    "with open(VOCAB_PKL_PATH, 'rb') as fin:\n",
    "    vocab_dict = pickle.load(fin)"
   ]
  },
  {
   "cell_type": "code",
   "execution_count": 4,
   "outputs": [
    {
     "data": {
      "text/plain": "{0: '<pad>',\n 1: '<s>',\n 2: '</s>',\n 3: '<unk>',\n 4: '|',\n 5: '-',\n 6: 'ё',\n 7: 'а',\n 8: 'б',\n 9: 'в',\n 10: 'г',\n 11: 'д',\n 12: 'е',\n 13: 'ж',\n 14: 'з',\n 15: 'и',\n 16: 'й',\n 17: 'к',\n 18: 'л',\n 19: 'м',\n 20: 'н',\n 21: 'о',\n 22: 'п',\n 23: 'р',\n 24: 'с',\n 25: 'т',\n 26: 'у',\n 27: 'ф',\n 28: 'х',\n 29: 'ц',\n 30: 'ч',\n 31: 'ш',\n 32: 'щ',\n 33: 'ъ',\n 34: 'ы',\n 35: 'ь',\n 36: 'э',\n 37: 'ю',\n 38: 'я'}"
     },
     "execution_count": 4,
     "metadata": {},
     "output_type": "execute_result"
    }
   ],
   "source": [
    "vocab_dict"
   ],
   "metadata": {
    "collapsed": false
   }
  },
  {
   "cell_type": "code",
   "execution_count": 5,
   "outputs": [],
   "source": [
    "vocab_dict[0] = '^' # <pad>\n",
    "vocab_dict[1] = '<' # <s>\n",
    "vocab_dict[2] = '>' # </s>\n",
    "vocab_dict[3] = '#' # <unk>\n",
    "vocab_dict[4] = ' ' # '|'"
   ],
   "metadata": {
    "collapsed": false
   }
  },
  {
   "cell_type": "code",
   "execution_count": 6,
   "outputs": [
    {
     "data": {
      "text/plain": "{0: '^',\n 1: '<',\n 2: '>',\n 3: '#',\n 4: ' ',\n 5: '-',\n 6: 'ё',\n 7: 'а',\n 8: 'б',\n 9: 'в',\n 10: 'г',\n 11: 'д',\n 12: 'е',\n 13: 'ж',\n 14: 'з',\n 15: 'и',\n 16: 'й',\n 17: 'к',\n 18: 'л',\n 19: 'м',\n 20: 'н',\n 21: 'о',\n 22: 'п',\n 23: 'р',\n 24: 'с',\n 25: 'т',\n 26: 'у',\n 27: 'ф',\n 28: 'х',\n 29: 'ц',\n 30: 'ч',\n 31: 'ш',\n 32: 'щ',\n 33: 'ъ',\n 34: 'ы',\n 35: 'ь',\n 36: 'э',\n 37: 'ю',\n 38: 'я'}"
     },
     "execution_count": 6,
     "metadata": {},
     "output_type": "execute_result"
    }
   ],
   "source": [
    "vocab_dict"
   ],
   "metadata": {
    "collapsed": false
   }
  },
  {
   "cell_type": "code",
   "execution_count": 7,
   "outputs": [
    {
     "name": "stdout",
     "output_type": "stream",
     "text": [
      "к сожалению эти предложения не нашли отражения в тексте\n",
      "\n",
      "если не будет возражений я буду считать что ассамблея согласна с этим предложением\n",
      "\n",
      "новошахтинск милый город\n",
      "\n",
      "мы особенно рады отметить что число скрывающихся от правосудия лиц уменьшилось\n",
      "\n",
      "контроллер\n",
      "\n"
     ]
    }
   ],
   "source": [
    "for i in range(5):\n",
    "    print(dataset[i][1])\n",
    "    print()"
   ],
   "metadata": {
    "collapsed": false
   }
  },
  {
   "cell_type": "markdown",
   "id": "e0451148",
   "metadata": {},
   "source": [
    "# Часть 1. Метрики."
   ]
  },
  {
   "cell_type": "code",
   "execution_count": 51,
   "id": "4c8df8ee",
   "metadata": {},
   "outputs": [],
   "source": [
    "# поможем себе с расстоянием Левенштейна\n",
    "import Levenshtein\n",
    "\n",
    "# Будем использовать эту функцию для нормализации текстов перед замером CER / WER\n",
    "ALLOWED_SYMBOLS = re.compile(r\"(^[a-zа-я\\s]+$)\")\n",
    "def normalize_text(text: str) -> str:\n",
    "    \"\"\"\n",
    "    В датасетах, иногда встречается '-', 'ё', апострофы и большие буквы. А мы хотим, чтобы:\n",
    "        WER(\"Ростов-на-дону\", \"ростов на дону\") == 0\n",
    "        WER(\"It's\", \"it s\") == 0\n",
    "        WER(\"ёлки палки\", \"елки палки\") == 0\n",
    "    Поэтому заменяем в target'ах 'ё' на 'е', а '-' на ' ' и т. д.\n",
    "    Кроме того на всякий случай удаляем лишние пробелы.\n",
    "    И проверяем что в получившейся строке только допустимые символы.\n",
    "    \"\"\"\n",
    "    assert isinstance(text, str)\n",
    "    text = text.lower().strip().replace(\"ё\", \"е\")\n",
    "    text = re.sub(r\"\\W+\", \" \", text)\n",
    "    text = re.sub(r\"\\s+\", \" \", text)\n",
    "    text = text.strip().split(\" \")\n",
    "    text = \" \".join(word for word in text if len(word) > 0)\n",
    "    assert (text == \"\") or ALLOWED_SYMBOLS.match(text)\n",
    "    return text\n",
    "\n",
    "def my_wer(ground_truth: str, predicted: str) -> float:\n",
    "    text_1 = ground_truth.split()\n",
    "    text_2 = predicted.split()\n",
    "    return Levenshtein.distance(text_1, text_2)\n",
    "\n",
    "def my_cer(ground_truth: str, predicted: str) -> float:\n",
    "    text_1 = list(ground_truth)\n",
    "    text_2 = list(predicted)\n",
    "    return Levenshtein.distance(text_1, text_2)\n",
    "\n",
    "# Функции для расчета relative CER / WER\n",
    "# В функции нужно подавать строки обработанные методом normalize_text\n",
    "def relative_cer(ground_truth: str, predicted: str) -> float:\n",
    "    assert isinstance(ground_truth, str)\n",
    "    assert isinstance(predicted, str)\n",
    "    return min(1., my_cer(ground_truth, predicted) / (len(ground_truth) + 1e-10))\n",
    "\n",
    "def relative_wer(ground_truth: str, predicted: str) -> float:\n",
    "    assert isinstance(ground_truth, str)\n",
    "    assert isinstance(predicted, str)\n",
    "    gt_len = ground_truth.count(\" \") + 1\n",
    "    return min(1., my_wer(ground_truth, predicted) / (gt_len + 1e-10))\n",
    "\n",
    "# Функции для расчета ORACLE relative CER / WER - тут мы выбираем лучшую гипотезу из beam'a\n",
    "# В функции нужно подавать строки обработанные методом normalize_text\n",
    "def oracle_relative_cer(ground_truth: str, predicted: List[str]) -> float:\n",
    "    return min(relative_cer(ground_truth, hypo) for hypo in predicted)\n",
    "\n",
    "def oracle_relative_wer(ground_truth: str, predicted: List[str]) -> float:\n",
    "    return min(relative_wer(ground_truth, hypo) for hypo in predicted)"
   ]
  },
  {
   "cell_type": "code",
   "execution_count": 52,
   "id": "a3923611",
   "metadata": {},
   "outputs": [],
   "source": [
    "# Тесты для проверки правильности реализации cer/wer \n",
    "assert(my_cer(normalize_text(\"алёнка родила девчёнку\"), normalize_text(\"аленка радила девченку Инну\")) == 6)\n",
    "assert(my_wer(normalize_text(\"алёнка родила девчёнку\"), normalize_text(\"аленка радила девченку Инну\")) == 2)\n",
    "\n",
    "assert(my_cer(normalize_text(\"\"), normalize_text(\"\")) == 0)\n",
    "assert(my_wer(normalize_text(\"\"), normalize_text(\"\")) == 0)\n",
    "\n",
    "assert(my_cer(normalize_text(\"Ростов-на-дону\"), normalize_text(\"ростов на дону\")) == 0)\n",
    "assert(my_wer(normalize_text(\"Ростов-на-дону\"), normalize_text(\"ростов на дону\")) == 0)\n",
    "\n",
    "assert(my_cer(normalize_text(\"It's\"), normalize_text(\"it s\")) == 0)\n",
    "assert(my_wer(normalize_text(\"It's\"), normalize_text(\"it s\")) == 0)"
   ]
  },
  {
   "cell_type": "markdown",
   "id": "5f68bea6",
   "metadata": {},
   "source": [
    "# Часть 2. CTC декодинг."
   ]
  },
  {
   "cell_type": "code",
   "execution_count": 53,
   "id": "8612ca5f",
   "metadata": {},
   "outputs": [],
   "source": [
    "class CTCDecoder:\n",
    "\n",
    "    def __init__(self, vocab_dict):\n",
    "        self.vocab = vocab_dict\n",
    "\n",
    "        # Id специальных токенов в словаре\n",
    "        self.blank_id = 0\n",
    "        self.bos_id = 1\n",
    "        self.eos_id = 2\n",
    "        self.unk_id = 3\n",
    "        self.word_sep_id = 4\n",
    "        # word_sep_id должен быть заменен на пробел при декодировании\n",
    "        # и не забудьте удалить пробелы в конце строки!\n",
    "\n",
    "    def argmax_decode(self, ctc_logits: torch.tensor) -> str:\n",
    "        '''\n",
    "        ctc_logits - ctc-матрица логитов размерности [TIME, VOCAB]\n",
    "        '''\n",
    "        ctc = ctc_logits.numpy()\n",
    "        TIME = ctc.shape[0]\n",
    "        prefix = self.vocab[1]\n",
    "        for time in range(1, TIME):\n",
    "            ind_max = np.argmax(ctc[time])\n",
    "            if prefix[-1] != self.vocab[ind_max]:\n",
    "                prefix += self.vocab[ind_max]\n",
    "\n",
    "        result_string = ''\n",
    "        vocab_list = [val for key, val in self.vocab.items()]\n",
    "        for symbol in prefix:\n",
    "            if symbol not in vocab_list[0:4]:\n",
    "                result_string += symbol\n",
    "        return normalize_text(result_string)\n",
    "\n",
    "    def beam_search_decode(self, ctc_logits: torch.tensor, beam_size: int=16) -> List[str]:\n",
    "        '''\n",
    "        ctc_logits - ctc-матрица логитов размерности [TIME, VOCAB]\n",
    "        beam_size - размер бима(луча)\n",
    "        '''\n",
    "        ctc = ctc_logits.numpy()\n",
    "        vocab = [value for key, value in self.vocab.items()]\n",
    "        F = ctc.shape[1]\n",
    "        ctc = np.vstack((np.zeros(F), ctc))\n",
    "        T = ctc.shape[0]\n",
    "        empty = ''\n",
    "        Pb, Pnb = defaultdict(Counter), defaultdict(Counter)\n",
    "        Pb[0][empty] = 1\n",
    "        Pnb[0][empty] = 0\n",
    "        A_prev = [empty]\n",
    "        for t in range(1, T):\n",
    "            ctc[t] = softmax(ctc[t])\n",
    "\n",
    "            for l in A_prev:\n",
    "                if len(l) > 0 and l[-1] == '>':\n",
    "                    Pb[t][l] = Pb[t - 1][l]\n",
    "                    Pnb[t][l] = Pnb[t - 1][l]\n",
    "                    continue\n",
    "\n",
    "                for c in vocab:\n",
    "                    c_ix = vocab.index(c)\n",
    "                    if c == '^':\n",
    "                        Pb[t][l] += ctc[t][c_ix] * (Pb[t - 1][l] + Pnb[t - 1][l])\n",
    "                    else:\n",
    "                        l_plus = l + c\n",
    "                        if len(l) > 0 and c == l[-1]:\n",
    "                            Pnb[t][l_plus] += ctc[t][c_ix] * Pb[t - 1][l]\n",
    "                            Pnb[t][l] += ctc[t][c_ix] * Pnb[t - 1][l]\n",
    "\n",
    "                        elif len(l.replace(' ', '')) > 0 and c in (' ', '>'):\n",
    "                            Pnb[t][l_plus] += ctc[t][c_ix] * (Pb[t - 1][l] + Pnb[t - 1][l])\n",
    "                        else:\n",
    "                            Pnb[t][l_plus] += ctc[t][c_ix] * (Pb[t - 1][l] + Pnb[t - 1][l])\n",
    "\n",
    "                        if l_plus not in A_prev:\n",
    "                            Pb[t][l_plus] += ctc[t][0] * (Pb[t - 1][l_plus] + Pnb[t - 1][l_plus])\n",
    "                            Pnb[t][l_plus] += ctc[t][c_ix] * Pnb[t - 1][l_plus]\n",
    "\n",
    "\n",
    "            A_next = Pb[t] + Pnb[t]\n",
    "            sorter = lambda key: A_next[key]\n",
    "            A_prev_new = sorted(A_next, key=sorter, reverse=True)[:beam_size]\n",
    "            if len(A_prev_new) > 0:\n",
    "                A_prev = A_prev_new\n",
    "\n",
    "        full_A = []\n",
    "        for val in A_prev:\n",
    "            full_A.append(normalize_text(val.strip('>')))\n",
    "        return full_A"
   ]
  },
  {
   "cell_type": "code",
   "execution_count": 43,
   "id": "93bab32c",
   "metadata": {},
   "outputs": [],
   "source": [
    "ctc_decoder = CTCDecoder(vocab_dict)"
   ]
  },
  {
   "cell_type": "code",
   "execution_count": 44,
   "outputs": [
    {
     "data": {
      "text/plain": "['если не будет возражений я буду считать что ассамблея согласна с этим предложением',\n 'если не будет возражений я буду считать что ассамблее согласна с этим предложением',\n 'если не будет возражений я буду считать что ассамблея согласны с этим предложением',\n 'если не будет возражений я бужу считать что ассамблея согласна с этим предложением',\n 'если не будет возражений я буду считать что ассамблея согласна с этим предложением',\n 'если не будет возражений я будут считать что ассамблея согласна с этим предложением',\n 'если не будет возражений я буду считать что ассамблея совласна с этим предложением',\n 'если не будет возражений я буду считать что ассамблея согласна с этим педложением',\n 'если не будет возражений я буду считать что ассамблея согласн с этим предложением',\n 'если не будет возражений я буду считать что ассамблея согласна с этим предложениям',\n 'если не будет возражений я буду считать что ассамблея согласна с этим предложением',\n 'если не будет возражений я буду считать что ассамблея согласна с этим предложение',\n 'если не будет возражений я буду считать что ассамблея согласна с этим предложенем',\n 'если не будет возражений я буду считать что ассамблея согласна с этим предложениее',\n 'если не будет возражений я буду считать что ассамблея согласна с этим предложениим',\n 'если не будет возражений я буду считать что ассамблея согласна с этим предложенией']"
     },
     "execution_count": 44,
     "metadata": {},
     "output_type": "execute_result"
    }
   ],
   "source": [
    "ctc_decoder.beam_search_decode(dataset[1][0][0])"
   ],
   "metadata": {
    "collapsed": false
   }
  },
  {
   "cell_type": "code",
   "execution_count": 45,
   "outputs": [
    {
     "data": {
      "text/plain": "'если не будет возражений я буду считать что ассамблея согласна с этим предложением'"
     },
     "execution_count": 45,
     "metadata": {},
     "output_type": "execute_result"
    }
   ],
   "source": [
    "ctc_decoder.argmax_decode(dataset[1][0][0])"
   ],
   "metadata": {
    "collapsed": false
   }
  },
  {
   "cell_type": "markdown",
   "id": "af164b4c",
   "metadata": {},
   "source": [
    "## <font color='red'>Внимание!</font> Далее ВЕЗДЕ используем только relative версии рассчета CER / WER и их oracle версии."
   ]
  },
  {
   "cell_type": "markdown",
   "id": "646394ee",
   "metadata": {},
   "source": [
    "### Argmax декодинг."
   ]
  },
  {
   "cell_type": "code",
   "execution_count": 54,
   "id": "46179f92",
   "metadata": {},
   "outputs": [
    {
     "name": "stdout",
     "output_type": "stream",
     "text": [
      "Mean CER in argmax decoding : 0.04054376192476094\n",
      "Mean WER in argmax decoding : 0.1557061410929387\n"
     ]
    }
   ],
   "source": [
    "# Рассчитаем усредненный по всему датасету relative CER / WER для ARGMAX варианта декодирования\n",
    "cer_argmax = 0\n",
    "wer_argmax = 0\n",
    "\n",
    "for i in range(len(dataset)):\n",
    "    predicted = ctc_decoder.argmax_decode(dataset[i][0][0])\n",
    "    ground_truth = dataset[i][1]\n",
    "\n",
    "    cer_argmax += relative_cer(normalize_text(ground_truth), normalize_text(predicted))\n",
    "    wer_argmax += relative_wer(normalize_text(ground_truth), normalize_text(predicted))\n",
    "\n",
    "cer_argmax /= len(dataset)\n",
    "wer_argmax /= len(dataset)\n",
    "print(f\"Mean CER in argmax decoding : {cer_argmax}\")\n",
    "print(f\"Mean WER in argmax decoding : {wer_argmax}\")"
   ]
  },
  {
   "cell_type": "markdown",
   "id": "2ce605d8",
   "metadata": {},
   "source": [
    "## Вопрос №1: Как соотносятся WER и CER в задаче ASR?"
   ]
  },
  {
   "cell_type": "markdown",
   "id": "5c9dc056",
   "metadata": {},
   "source": [
    "## Ответ: \n",
    "### - Ошибки в символах можно считать незначитильными (CER ~4%). WER > 15% просто потому, что слово с одним неверным символом уже будет считаться неправильным. Но в целом ошибки с небольшим процентом => результат хороший"
   ]
  },
  {
   "cell_type": "code",
   "execution_count": 55,
   "id": "66735a5a",
   "metadata": {},
   "outputs": [
    {
     "name": "stderr",
     "output_type": "stream",
     "text": [
      "100%|██████████| 9630/9630 [01:09<00:00, 138.98it/s]"
     ]
    },
    {
     "name": "stdout",
     "output_type": "stream",
     "text": [
      "CER in bs decoding : 0.040635285577126035\n",
      "WER in bs decoding : 0.1557743465116334\n"
     ]
    },
    {
     "name": "stderr",
     "output_type": "stream",
     "text": [
      "\n"
     ]
    }
   ],
   "source": [
    "# Рассчитаем усредненный по всему датасету relative CER / WER для BEAM_SEARCH варианта декодирования\n",
    "# Для рассчета используем beam_size = 1 !!!\n",
    "# Hint : стоит использовать mpire для ускорения\n",
    "cer_bs1 = 0\n",
    "wer_bs1 = 0\n",
    "\n",
    "# Здесь должен быть ваш код, который будет оцениваться\n",
    "def bs1_multi(i):\n",
    "    cer_beam = 0\n",
    "    wer_beam = 0\n",
    "    pred = ctc_decoder.beam_search_decode(dataset[i][0][0], 1)\n",
    "    truth = dataset[i][1]\n",
    "\n",
    "    cer_beam += relative_cer(normalize_text(truth), normalize_text(pred[0]))\n",
    "    wer_beam += relative_wer(normalize_text(truth), normalize_text(pred[0]))\n",
    "\n",
    "    return cer_beam, wer_beam\n",
    "\n",
    "with WorkerPool(n_jobs=8) as pool:\n",
    "    bs1_results = pool.map(bs1_multi, range(len(dataset)), progress_bar=True)\n",
    "\n",
    "for cer, wer in bs1_results:\n",
    "    cer_bs1 += cer\n",
    "    wer_bs1 += wer\n",
    "\n",
    "cer_bs1 /= len(dataset)\n",
    "wer_bs1 /= len(dataset)\n",
    "print(f\"CER in bs decoding : {cer_bs1}\")\n",
    "print(f\"WER in bs decoding : {wer_bs1}\")"
   ]
  },
  {
   "cell_type": "code",
   "execution_count": 56,
   "id": "2ee007ac",
   "metadata": {},
   "outputs": [],
   "source": [
    "# Проверим, что мы нигде не ошиблись в написании кода beam_search_decode\n",
    "np.testing.assert_almost_equal(cer_argmax, cer_bs1, decimal=4)\n",
    "np.testing.assert_almost_equal(wer_argmax, wer_bs1, decimal=4)"
   ]
  },
  {
   "cell_type": "code",
   "execution_count": 57,
   "outputs": [
    {
     "data": {
      "text/plain": "['к сожалению эти предложения не носли отражения в тексте',\n 'к сожалению эти предложения не ношли отражения в тексте',\n 'к сожалению эти предложения неносли отражения в тексте',\n 'к сожалению эти предложения не носли отражения в тексть']"
     },
     "execution_count": 57,
     "metadata": {},
     "output_type": "execute_result"
    }
   ],
   "source": [
    "predicted = ctc_decoder.beam_search_decode(dataset[0][0][0], 4)\n",
    "ground_truth = dataset[0][1]\n",
    "predicted"
   ],
   "metadata": {
    "collapsed": false
   }
  },
  {
   "cell_type": "code",
   "execution_count": 58,
   "id": "74b87a2f",
   "metadata": {},
   "outputs": [
    {
     "name": "stderr",
     "output_type": "stream",
     "text": [
      "100%|██████████| 9630/9630 [04:12<00:00, 38.10it/s]\n",
      "100%|██████████| 9630/9630 [08:20<00:00, 19.23it/s]\n",
      "100%|██████████| 9630/9630 [17:00<00:00,  9.44it/s]\n",
      "100%|██████████| 9630/9630 [35:39<00:00,  4.50it/s] \n"
     ]
    }
   ],
   "source": [
    "# Ок, значит все хорошо и можно приступить к построению графиков\n",
    "# зависимости усредненного CER / WER + oracle от beam_size.\n",
    "\n",
    "# Для этого будем использовать beam_size = [4, 8, 16, 32].\n",
    "# Заполним словарик усредненных по датасету relative wer / cer наиболее вероятной гипотезы - top1_wer, top1_cer.\n",
    "# Так же добавим в словарик relative oracle wer / cer - oracle_wer, oracle_cer\n",
    "graph_results = {'oracle_wer':[], 'oracle_cer':[], 'top1_wer':[], 'top1_cer': []}\n",
    "beam_sizes = [4, 8, 16, 32]\n",
    "for beam_size in beam_sizes:\n",
    "    top1_wer, top1_cer, oracle_wer, oracle_cer = 0, 0, 0, 0\n",
    "\n",
    "    def multi_for(i):\n",
    "        t_wer, t_cer, o_wer, o_cer = 0, 0, 0, 0\n",
    "        predicted = ctc_decoder.beam_search_decode(dataset[i][0][0], beam_size)\n",
    "        ground_truth = dataset[i][1]\n",
    "        t_cer += relative_cer(normalize_text(ground_truth), normalize_text(predicted[0]))\n",
    "        t_wer += relative_wer(normalize_text(ground_truth), normalize_text(predicted[0]))\n",
    "        o_cer += oracle_relative_cer(normalize_text(ground_truth), predicted)\n",
    "        o_wer += oracle_relative_wer(normalize_text(ground_truth), predicted)\n",
    "\n",
    "        return t_wer, t_cer, o_wer, o_cer\n",
    "    \n",
    "    with WorkerPool(n_jobs=8) as pool:\n",
    "        results = pool.map(multi_for, range(len(dataset)), progress_bar=True)\n",
    "\n",
    "    for t_wer, t_cer, o_wer, o_cer in results:\n",
    "        top1_wer += t_wer\n",
    "        top1_cer += t_cer\n",
    "        oracle_wer += o_wer\n",
    "        oracle_cer += o_cer\n",
    "\n",
    "    top1_cer /= len(dataset)\n",
    "    top1_wer /= len(dataset)\n",
    "    oracle_cer /= len(dataset)\n",
    "    oracle_wer /= len(dataset)\n",
    "\n",
    "    graph_results['top1_cer'].append(top1_cer)\n",
    "    graph_results['top1_wer'].append(top1_wer)\n",
    "    graph_results['oracle_cer'].append(oracle_cer)\n",
    "    graph_results['oracle_wer'].append(oracle_wer)"
   ]
  },
  {
   "cell_type": "code",
   "execution_count": 59,
   "outputs": [
    {
     "data": {
      "text/plain": "{'oracle_wer': [0.12018958801474909,\n  0.10541525049145312,\n  0.0949981485558182,\n  0.08639950132799659],\n 'oracle_cer': [0.03176201735811956,\n  0.028525680932826706,\n  0.025974935161853854,\n  0.023995970166365167],\n 'top1_wer': [0.1556477320392313,\n  0.15560639112561694,\n  0.1556070567804882,\n  0.15561504463894327],\n 'top1_cer': [0.04058551124104919,\n  0.04058949516059675,\n  0.040585985699097674,\n  0.04058393628703796]}"
     },
     "execution_count": 59,
     "metadata": {},
     "output_type": "execute_result"
    }
   ],
   "source": [
    "graph_results"
   ],
   "metadata": {
    "collapsed": false
   }
  },
  {
   "cell_type": "code",
   "execution_count": 60,
   "id": "a472e689",
   "metadata": {},
   "outputs": [
    {
     "data": {
      "text/plain": "<matplotlib.legend.Legend at 0x7f8688d2bf40>"
     },
     "execution_count": 60,
     "metadata": {},
     "output_type": "execute_result"
    },
    {
     "data": {
      "text/plain": "<Figure size 1000x500 with 2 Axes>",
      "image/png": "[encoded data removed]"
     },
     "metadata": {},
     "output_type": "display_data"
    }
   ],
   "source": [
    "fig, axs = plt.subplots(1, 2, figsize=(10, 5))\n",
    "fig.suptitle('Result of beam_search experiments')\n",
    "\n",
    "\n",
    "axs[0].axhline(y = cer_argmax, color = 'r', linestyle = '-', label='cer_argmax')\n",
    "axs[0].plot(beam_sizes, graph_results['top1_cer'], '--bo', label='top1_cer') \n",
    "axs[0].plot(beam_sizes, graph_results['oracle_cer'], '--go', label='oracle_cer')\n",
    "axs[0].set_title('CER')\n",
    "axs[0].legend()\n",
    "\n",
    "axs[1].axhline(y = wer_argmax, color = 'r', linestyle = '-', label='wer_argmax')\n",
    "axs[1].plot(beam_sizes, graph_results['top1_wer'], '--bo', label='top1_wer')\n",
    "axs[1].plot(beam_sizes, graph_results['oracle_wer'], '--bo', label='oracle_wer')\n",
    "axs[1].set_title('WER')\n",
    "axs[1].legend()"
   ]
  },
  {
   "cell_type": "markdown",
   "id": "994d69e0",
   "metadata": {},
   "source": [
    "## Вопрос №2: \n",
    "## - Сделайте выводы относительно поведения CER / WER при увеличении размера beam_size? \n",
    "## - Как соотносятся значения relative CER / WER и ORACLE варианты в beam_search ? \n",
    "## - Почему они так соотносятся ? \n",
    "## - Как можно улучшить beam search ?"
   ]
  },
  {
   "cell_type": "markdown",
   "id": "c9d4bb80",
   "metadata": {},
   "source": [
    "## Ответ: \n",
    "### - По мере увеличения beam_size relative CER и relative WER почти не изменяются - стагнируют.\n",
    "### - Однако oracle WER и oracle CER при увеличении beam_size становятся все меньше и меньше.\n",
    "### - Так происходит, поскольку relative версия берет наиболее вероятную гипотезу и использует.\n",
    "### - Oracle же берет топ самых вероятных гипотез и выбирает ту, при которой ошибка будет минимальна. Это и делает результат всё лучше и лучше."
   ]
  },
  {
   "cell_type": "code",
   "execution_count": null,
   "id": "d2ee02a4",
   "metadata": {},
   "outputs": [],
   "source": []
  }
 ],
 "metadata": {
  "kernelspec": {
   "display_name": "Python 3 (ipykernel)",
   "language": "python",
   "name": "python3"
  },
  "language_info": {
   "codemirror_mode": {
    "name": "ipython",
    "version": 3
   },
   "file_extension": ".py",
   "mimetype": "text/x-python",
   "name": "python",
   "nbconvert_exporter": "python",
   "pygments_lexer": "ipython3",
   "version": "3.9.13"
  }
 },
 "nbformat": 4,
 "nbformat_minor": 5
}
